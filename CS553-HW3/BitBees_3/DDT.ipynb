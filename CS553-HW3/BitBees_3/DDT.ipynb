{
 "cells": [
  {
   "cell_type": "code",
   "execution_count": 7,
   "id": "dca851c2",
   "metadata": {},
   "outputs": [],
   "source": [
    "from sage.crypto.sbox import SBox\n",
    "from sbox import sbox_generate\n",
    "from base_conversions import *"
   ]
  },
  {
   "cell_type": "code",
   "execution_count": 11,
   "id": "a2406c43",
   "metadata": {},
   "outputs": [
    {
     "data": {
      "text/plain": [
       "(7, 13, 1, 11, 0, 9, 14, 12, 8, 15, 4, 10, 6, 5, 3, 2)"
      ]
     },
     "execution_count": 11,
     "metadata": {},
     "output_type": "execute_result"
    }
   ],
   "source": [
    "dec_sbox = map(int, map((bin2dec), sbox_generate('list')))\n",
    "S = SBox(*dec_sbox)\n",
    "S"
   ]
  },
  {
   "cell_type": "code",
   "execution_count": 12,
   "id": "e5c3361f",
   "metadata": {},
   "outputs": [
    {
     "data": {
      "text/plain": [
       "[16  0  0  0  0  0  0  0  0  0  0  0  0  0  0  0]\n",
       "[ 0  2  2  2  0  0  0  2  0  2  4  0  0  0  2  0]\n",
       "[ 0  0  0  0  0  6  4  2  0  0  0  0  2  0  2  0]\n",
       "[ 0  0  2  0  2  0  2  2  0  0  0  2  6  0  0  0]\n",
       "[ 0  0  0  0  2  0  0  6  2  0  2  0  0  0  2  2]\n",
       "[ 0  0  0  0  0  2  2  0  0  4  0  0  0  6  2  0]\n",
       "[ 0  4  4  0  0  0  0  0  0  2  0  2  0  2  0  2]\n",
       "[ 0  2  0  2  0  0  0  0  2  0  2  4  4  0  0  0]\n",
       "[ 0  2  2  0  0  2  2  0  0  0  0  0  2  2  2  2]\n",
       "[ 0  0  0  0  0  4  0  0  2  0  0  2  2  0  0  6]\n",
       "[ 0  0  0  4  2  0  0  2  2  4  0  2  0  0  0  0]\n",
       "[ 0  0  2  2  0  0  0  0  0  2  4  2  0  2  2  0]\n",
       "[ 0  2  2  0  0  0  4  0  4  2  2  0  0  0  0  0]\n",
       "[ 0  2  2  2  2  0  0  0  4  0  0  2  0  0  0  2]\n",
       "[ 0  0  0  4  4  0  2  2  0  0  0  0  0  0  2  2]\n",
       "[ 0  2  0  0  4  2  0  0  0  0  2  0  0  4  2  0]"
      ]
     },
     "execution_count": 12,
     "metadata": {},
     "output_type": "execute_result"
    }
   ],
   "source": [
    "S.difference_distribution_table()"
   ]
  },
  {
   "cell_type": "code",
   "execution_count": 33,
   "id": "2a293340",
   "metadata": {},
   "outputs": [],
   "source": [
    "def anf(s):\n",
    "    result = []\n",
    "    for i in range(0, 4):\n",
    "        result.append(S.component_function(1 << i).algebraic_normal_form())\n",
    "    return result"
   ]
  },
  {
   "cell_type": "code",
   "execution_count": 34,
   "id": "a709cde9",
   "metadata": {},
   "outputs": [
    {
     "data": {
      "text/plain": [
       "[x0*x1*x2 + x0*x1*x3 + x0*x2*x3 + x0*x2 + x0*x3 + x1*x2*x3 + x2*x3 + x2 + x3 + 1,\n",
       " x0*x1*x2 + x0*x2*x3 + x0*x2 + x0 + x1*x3 + x1 + x2 + x3 + 1,\n",
       " x0*x2*x3 + x0*x3 + x1 + x2 + x3 + 1,\n",
       " x0*x1*x2 + x0*x1*x3 + x0*x3 + x0 + x1*x2 + x1*x3 + x2*x3 + x3]"
      ]
     },
     "execution_count": 34,
     "metadata": {},
     "output_type": "execute_result"
    }
   ],
   "source": [
    "anf(S)"
   ]
  },
  {
   "cell_type": "code",
   "execution_count": null,
   "id": "39c5a503",
   "metadata": {},
   "outputs": [],
   "source": []
  }
 ],
 "metadata": {
  "kernelspec": {
   "display_name": "SageMath 9.5",
   "language": "sage",
   "name": "sagemath"
  },
  "language_info": {
   "codemirror_mode": {
    "name": "ipython",
    "version": 3
   },
   "file_extension": ".py",
   "mimetype": "text/x-python",
   "name": "python",
   "nbconvert_exporter": "python",
   "pygments_lexer": "ipython3",
   "version": "3.10.4"
  },
  "vscode": {
   "interpreter": {
    "hash": "916dbcbb3f70747c44a77c7bcd40155683ae19c65e1c03b4aa3499c5328201f1"
   }
  }
 },
 "nbformat": 4,
 "nbformat_minor": 5
}
