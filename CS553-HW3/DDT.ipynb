{
 "cells": [
  {
   "cell_type": "code",
   "execution_count": 37,
   "id": "dca851c2",
   "metadata": {},
   "outputs": [],
   "source": [
    "from sage.crypto.sbox import SBox\n",
    "from sbox_generate import sbox_generate"
   ]
  },
  {
   "cell_type": "code",
   "execution_count": 38,
   "id": "a2406c43",
   "metadata": {},
   "outputs": [
    {
     "data": {
      "text/plain": [
       "(0, 1, 3, 4, 9, 5, 8, 11, 15, 12, 14, 2, 7, 13, 10, 6)"
      ]
     },
     "execution_count": 38,
     "metadata": {},
     "output_type": "execute_result"
    }
   ],
   "source": [
    "S = SBox(*sbox_generate(output_type='list'))\n",
    "S"
   ]
  },
  {
   "cell_type": "code",
   "execution_count": 39,
   "id": "e5c3361f",
   "metadata": {},
   "outputs": [
    {
     "data": {
      "text/plain": [
       "[16  0  0  0  0  0  0  0  0  0  0  0  0  0  0  0]\n",
       "[ 0  2  0  4  0  0  0  2  0  0  2  0  6  0  0  0]\n",
       "[ 0  4  0  2  0  2  0  0  0  0  0  2  0  2  4  0]\n",
       "[ 0  2  6  0  2  0  0  2  0  0  0  0  0  4  0  0]\n",
       "[ 0  2  0  0  6  0  0  0  2  2  0  2  0  0  0  2]\n",
       "[ 0  0  2  0  0  2  0  0  8  0  0  2  2  0  0  0]\n",
       "[ 0  2  0  0  0  2  0  0  2  2  6  0  0  0  0  2]\n",
       "[ 0  0  0  2  0  2  4  0  0  4  0  2  0  2  0  0]\n",
       "[ 0  0  2  0  0  0  2  0  2  0  0  0  0  6  2  2]\n",
       "[ 0  4  2  0  2  0  0  0  0  0  2  0  2  0  4  0]\n",
       "[ 0  0  0  6  0  0  2  0  2  0  0  0  2  0  2  2]\n",
       "[ 0  0  2  0  0  2  0  0  0  0  0  2  2  0  0  8]\n",
       "[ 0  0  2  0  0  0  4  2  0  6  0  0  2  0  0  0]\n",
       "[ 0  0  0  0  0  6  2  0  0  0  4  0  0  2  2  0]\n",
       "[ 0  0  0  0  2  0  0 10  0  2  2  0  0  0  0  0]\n",
       "[ 0  0  0  2  4  0  2  0  0  0  0  6  0  0  2  0]"
      ]
     },
     "execution_count": 39,
     "metadata": {},
     "output_type": "execute_result"
    }
   ],
   "source": [
    "S.difference_distribution_table()"
   ]
  },
  {
   "cell_type": "code",
   "execution_count": 47,
   "id": "5c977185",
   "metadata": {},
   "outputs": [
    {
     "data": {
      "text/plain": [
       "x0*x1*x2 + x0*x1*x3 + x0*x2 + x0 + x1 + x2*x3 + x2 + x3"
      ]
     },
     "execution_count": 47,
     "metadata": {},
     "output_type": "execute_result"
    }
   ],
   "source": [
    "f3 = S.component_function(1)\n",
    "f3.algebraic_normal_form()"
   ]
  },
  {
   "cell_type": "code",
   "execution_count": null,
   "id": "2a293340",
   "metadata": {},
   "outputs": [],
   "source": []
  },
  {
   "cell_type": "code",
   "execution_count": null,
   "id": "a709cde9",
   "metadata": {},
   "outputs": [],
   "source": []
  }
 ],
 "metadata": {
  "kernelspec": {
   "display_name": "Python 3.8.6 ('flask-sqlalchemy-hDHlLF9V')",
   "language": "python",
   "name": "python3"
  },
  "language_info": {
   "codemirror_mode": {
    "name": "ipython",
    "version": 3
   },
   "file_extension": ".py",
   "mimetype": "text/x-python",
   "name": "python",
   "nbconvert_exporter": "python",
   "pygments_lexer": "ipython3",
   "version": "3.8.6"
  },
  "vscode": {
   "interpreter": {
    "hash": "9494e68623dadaf5815fe71b9a2b566dc232b18c18e2a1e3690a26541844e658"
   }
  }
 },
 "nbformat": 4,
 "nbformat_minor": 5
}
